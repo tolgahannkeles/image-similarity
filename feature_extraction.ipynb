{
 "cells": [
  {
   "cell_type": "code",
   "id": "initial_id",
   "metadata": {
    "collapsed": true,
    "ExecuteTime": {
     "end_time": "2025-04-09T08:44:47.476892Z",
     "start_time": "2025-04-09T08:44:46.364608Z"
    }
   },
   "source": [
    "import cv2\n",
    "import numpy as np\n",
    "from skimage.feature import hog, local_binary_pattern\n",
    "from sklearn.metrics.pairwise import cosine_similarity\n",
    "from skimage.metrics import structural_similarity as ssim\n",
    "from sklearn.metrics import mean_squared_error"
   ],
   "outputs": [],
   "execution_count": 1
  },
  {
   "metadata": {},
   "cell_type": "markdown",
   "source": "# Calculation of Image Similarity with Feature Extraction Methods",
   "id": "beee9ce2949b7706"
  },
  {
   "metadata": {
    "ExecuteTime": {
     "end_time": "2025-04-09T08:44:47.494178Z",
     "start_time": "2025-04-09T08:44:47.487804Z"
    }
   },
   "cell_type": "code",
   "source": [
    "# HOG özelliklerini çıkarma\n",
    "def extract_hog_features(image):\n",
    "    # Ensure the image is grayscale\n",
    "    if len(image.shape) == 3:  # Check if the image is multi-channel\n",
    "        image = cv2.cvtColor(image, cv2.COLOR_BGR2GRAY)\n",
    "\n",
    "    hog_features, _ = hog(image, pixels_per_cell=(8, 8),\n",
    "                          cells_per_block=(2, 2), block_norm='L2-Hys',\n",
    "                          visualize=True)\n",
    "    return hog_features"
   ],
   "id": "8d3f9f46d35b6baa",
   "outputs": [],
   "execution_count": 2
  },
  {
   "metadata": {
    "ExecuteTime": {
     "end_time": "2025-04-09T08:44:47.756778Z",
     "start_time": "2025-04-09T08:44:47.748975Z"
    }
   },
   "cell_type": "code",
   "source": [
    "# SURF özelliklerini çıkarma\n",
    "def extract_surf_features(image):\n",
    "    surf = cv2.xfeatures2d.SURF_create()\n",
    "    keypoints, descriptors = surf.detectAndCompute(image, None)\n",
    "    return descriptors\n"
   ],
   "id": "6e546a696d2e640f",
   "outputs": [],
   "execution_count": 3
  },
  {
   "metadata": {
    "ExecuteTime": {
     "end_time": "2025-04-09T08:44:47.807391Z",
     "start_time": "2025-04-09T08:44:47.800521Z"
    }
   },
   "cell_type": "code",
   "source": [
    "def extract_sift_features(image):\n",
    "    sift = cv2.SIFT_create()\n",
    "    keypoints, descriptors = sift.detectAndCompute(image, None)\n",
    "    return descriptors"
   ],
   "id": "9dc5100874ee64e7",
   "outputs": [],
   "execution_count": 4
  },
  {
   "metadata": {
    "ExecuteTime": {
     "end_time": "2025-04-09T08:44:47.864464Z",
     "start_time": "2025-04-09T08:44:47.856977Z"
    }
   },
   "cell_type": "code",
   "source": [
    "# LBP özelliklerini çıkarma\n",
    "def extract_lbp_features(image):\n",
    "    radius = 1\n",
    "    n_points = 8 * radius\n",
    "    lbp = local_binary_pattern(image, n_points, radius, method='uniform')\n",
    "    n_bins = int(lbp.max() + 1)\n",
    "    lbp_hist, _ = np.histogram(lbp, bins=n_bins, range=(0, n_bins), density=True)\n",
    "    return lbp_hist"
   ],
   "id": "9c24089970b1b605",
   "outputs": [],
   "execution_count": 5
  },
  {
   "metadata": {
    "ExecuteTime": {
     "end_time": "2025-04-09T08:44:47.924193Z",
     "start_time": "2025-04-09T08:44:47.918656Z"
    }
   },
   "cell_type": "code",
   "source": [
    "def pad_descriptors(descriptor1, descriptor2):\n",
    "    max_length = max(descriptor1.shape[0], descriptor2.shape[0])\n",
    "    padded_descriptor1 = np.zeros((max_length, descriptor1.shape[1]))\n",
    "    padded_descriptor2 = np.zeros((max_length, descriptor2.shape[1]))\n",
    "    padded_descriptor1[:descriptor1.shape[0], :] = descriptor1\n",
    "    padded_descriptor2[:descriptor2.shape[0], :] = descriptor2\n",
    "    return padded_descriptor1.flatten(), padded_descriptor2.flatten()"
   ],
   "id": "447156041c649c66",
   "outputs": [],
   "execution_count": 6
  },
  {
   "metadata": {},
   "cell_type": "markdown",
   "source": "# Calculation of Image Similarity with SSIM and MSE",
   "id": "d008c982d6be919e"
  },
  {
   "metadata": {
    "ExecuteTime": {
     "end_time": "2025-04-09T08:44:47.980954Z",
     "start_time": "2025-04-09T08:44:47.976660Z"
    }
   },
   "cell_type": "code",
   "source": [
    "# SSIM benzerlik skoru hesaplama\n",
    "def calculate_ssim(image1, image2):\n",
    "    score, _ = ssim(image1, image2, full=True)\n",
    "    return score"
   ],
   "id": "7c921962e80ea1f0",
   "outputs": [],
   "execution_count": 7
  },
  {
   "metadata": {
    "ExecuteTime": {
     "end_time": "2025-04-09T08:44:48.030997Z",
     "start_time": "2025-04-09T08:44:48.026483Z"
    }
   },
   "cell_type": "code",
   "source": [
    "# MSE benzerlik skoru hesaplama\n",
    "def calculate_mse(image1, image2):\n",
    "    mse_score = mean_squared_error(image1.flatten(), image2.flatten())\n",
    "    return 1 / (1 + mse_score)"
   ],
   "id": "89acbd97bd90357e",
   "outputs": [],
   "execution_count": 8
  },
  {
   "metadata": {
    "ExecuteTime": {
     "end_time": "2025-04-09T08:44:48.084043Z",
     "start_time": "2025-04-09T08:44:48.078244Z"
    }
   },
   "cell_type": "code",
   "source": [
    "# Histogram Similarity\n",
    "def calculate_histogram_similarity(image1, image2):\n",
    "    hist1 = cv2.calcHist([image1], [0], None, [256], [0, 256])\n",
    "    hist2 = cv2.calcHist([image2], [0], None, [256], [0, 256])\n",
    "    hist1 = cv2.normalize(hist1, hist1).flatten()\n",
    "    hist2 = cv2.normalize(hist2, hist2).flatten()\n",
    "    similarity = cv2.compareHist(hist1, hist2, cv2.HISTCMP_CORREL)\n",
    "    return similarity"
   ],
   "id": "307ce80d68ff91",
   "outputs": [],
   "execution_count": 9
  },
  {
   "metadata": {
    "ExecuteTime": {
     "end_time": "2025-04-09T08:44:48.141957Z",
     "start_time": "2025-04-09T08:44:48.136226Z"
    }
   },
   "cell_type": "code",
   "source": [
    "# ORB Feature Matching\n",
    "def calculate_orb_similarity(image1, image2):\n",
    "    orb = cv2.ORB_create()\n",
    "    keypoints1, descriptors1 = orb.detectAndCompute(image1, None)\n",
    "    keypoints2, descriptors2 = orb.detectAndCompute(image2, None)\n",
    "    bf = cv2.BFMatcher(cv2.NORM_HAMMING, crossCheck=True)\n",
    "    matches = bf.match(descriptors1, descriptors2)\n",
    "    matches = sorted(matches, key=lambda x: x.distance)\n",
    "\n",
    "    orb_similarity = len(matches)\n",
    "    normalized_orb_similarity = orb_similarity / max(len(keypoints1), len(keypoints2))\n",
    "    return normalized_orb_similarity"
   ],
   "id": "e73274e74b4e8f5",
   "outputs": [],
   "execution_count": 10
  },
  {
   "metadata": {
    "ExecuteTime": {
     "end_time": "2025-04-09T08:44:48.203763Z",
     "start_time": "2025-04-09T08:44:48.197157Z"
    }
   },
   "cell_type": "code",
   "source": [
    "# İki resim arasındaki benzerlik skorunu hesaplama\n",
    "def calculate_similarity(image1, image2):\n",
    "    # HOG benzerlik skoru hesaplama\n",
    "    hog_features1 = extract_hog_features(image1_gray)\n",
    "    hog_features2 = extract_hog_features(image2_gray)\n",
    "    hog_similarity = cosine_similarity([hog_features1], [hog_features2])[0][0]\n",
    "    print(f'HOG similarity score: {hog_similarity}')\n",
    "\n",
    "    # SIFT benzerlik skoru hesaplama\n",
    "    sift_features1 = extract_sift_features(image1_gray)\n",
    "    sift_features2 = extract_sift_features(image2_gray)\n",
    "    sift_features1, sift_features2 = pad_descriptors(sift_features1, sift_features2)\n",
    "    sift_similarity = cosine_similarity([sift_features1], [sift_features2])[0][0]\n",
    "    print(f'SIFT similarity score: {sift_similarity}')\n",
    "\n",
    "    # LBP benzerlik skoru hesaplama\n",
    "    lbp_features1 = extract_lbp_features(image1_gray)\n",
    "    lbp_features2 = extract_lbp_features(image2_gray)\n",
    "    lbp_similarity = cosine_similarity([lbp_features1], [lbp_features2])[0][0]\n",
    "    print(f'LBP similarity score: {lbp_similarity}')\n",
    "\n",
    "    # Histogram benzerlik skoru hesaplama\n",
    "    histogram_similarity = calculate_histogram_similarity(image1, image2)\n",
    "    print(f'Histogram similarity score: {histogram_similarity}')\n",
    "\n",
    "    # ORB benzerlik skoru hesaplama\n",
    "    orb_similarity = calculate_orb_similarity(image1, image2)\n",
    "    print(f'ORB similarity score: {orb_similarity}')\n",
    "\n",
    "    # SSIM benzerlik skoru hesaplama\n",
    "    ssim_score = calculate_ssim(image1, image2)\n",
    "    print(f'SSIM similarity score: {ssim_score}')\n",
    "\n",
    "    # MSE benzerlik skoru hesaplama\n",
    "    mse_score = calculate_mse(image1, image2)\n",
    "    print(f'MSE similarity score: {mse_score}')\n",
    "\n",
    "    # Özellikleri birleştirme\n",
    "    features1 = np.concatenate((hog_features1, sift_features1.flatten(), lbp_features1))\n",
    "    features2 = np.concatenate((hog_features2, sift_features2.flatten(), lbp_features2))\n",
    "\n",
    "    # Kosinüs benzerliğini hesaplama\n",
    "    similarity = cosine_similarity([features1], [features2])\n",
    "    return similarity[0][0]\n"
   ],
   "id": "7d406503912eeb7b",
   "outputs": [],
   "execution_count": 11
  },
  {
   "metadata": {
    "ExecuteTime": {
     "end_time": "2025-04-09T08:54:45.834024Z",
     "start_time": "2025-04-09T08:54:39.357058Z"
    }
   },
   "cell_type": "code",
   "source": [
    "# Resimleri yükleme\n",
    "image1 = cv2.imread('images/test-images/img.png', cv2.IMREAD_COLOR)\n",
    "image2 = cv2.imread('images/test-images/img.png', cv2.IMREAD_COLOR)\n",
    "\n",
    "# Resimleri gri tonlamaya çevirme\n",
    "image1_gray = cv2.cvtColor(image1, cv2.COLOR_BGR2GRAY)\n",
    "image2_gray = cv2.cvtColor(image2, cv2.COLOR_BGR2GRAY)\n",
    "\n",
    "# Benzerlik skorunu hesaplama\n",
    "similarity_score = calculate_similarity(image1_gray, image2_gray)\n",
    "print(f'The similarity score between the two images is: {similarity_score}')"
   ],
   "id": "2a77e9b8f3e02ba3",
   "outputs": [
    {
     "name": "stdout",
     "output_type": "stream",
     "text": [
      "HOG similarity score: 1.0\n",
      "SIFT similarity score: 0.9999999999999983\n",
      "LBP similarity score: 1.0000000000000002\n",
      "Histogram similarity score: 1.0\n",
      "ORB similarity score: 1.0\n",
      "SSIM similarity score: 1.0\n",
      "MSE similarity score: 1.0\n",
      "The similarity score between the two images is: 1.0000000000000042\n"
     ]
    }
   ],
   "execution_count": 14
  },
  {
   "metadata": {
    "ExecuteTime": {
     "end_time": "2025-04-09T08:44:55.163951Z",
     "start_time": "2025-04-09T08:44:55.157504Z"
    }
   },
   "cell_type": "code",
   "source": [
    "import cv2\n",
    "print(cv2.__version__)"
   ],
   "id": "7717731022b7fb09",
   "outputs": [
    {
     "name": "stdout",
     "output_type": "stream",
     "text": [
      "4.11.0\n"
     ]
    }
   ],
   "execution_count": 13
  }
 ],
 "metadata": {
  "kernelspec": {
   "display_name": "Python 3",
   "language": "python",
   "name": "python3"
  },
  "language_info": {
   "codemirror_mode": {
    "name": "ipython",
    "version": 2
   },
   "file_extension": ".py",
   "mimetype": "text/x-python",
   "name": "python",
   "nbconvert_exporter": "python",
   "pygments_lexer": "ipython2",
   "version": "2.7.6"
  }
 },
 "nbformat": 4,
 "nbformat_minor": 5
}
